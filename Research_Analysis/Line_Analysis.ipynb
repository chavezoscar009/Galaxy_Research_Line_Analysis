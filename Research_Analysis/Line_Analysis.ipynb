{
 "cells": [
  {
   "cell_type": "code",
   "execution_count": 1,
   "metadata": {},
   "outputs": [],
   "source": [
    "from astropy.io import fits\n",
    "import numpy as np\n",
    "import pylab as plt\n",
    "import glob as glob\n",
    "from scipy.stats import mode\n",
    "from matplotlib.colors import LogNorm\n",
    "from transform import get_wcs_solution\n",
    "from scipy.interpolate import interp1d\n",
    "import matplotlib.gridspec as gridspec\n",
    "from scipy.signal import find_peaks\n",
    "from scipy.signal import medfilt\n",
    "from scipy.optimize import curve_fit\n",
    "from scipy.stats import norm\n",
    "from astropy import units as u\n",
    "from astropy.modeling import models\n",
    "from astropy.modeling import fitting\n",
    "\n"
   ]
  },
  {
   "cell_type": "code",
   "execution_count": 7,
   "metadata": {},
   "outputs": [],
   "source": [
    "#reading in the dat file\n",
    "ID, redshift = np.genfromtxt('targets.dat', usecols=(0,1), unpack = True, skip_header=2, dtype = 'str')\n",
    "z = redshift.astype(float)\n",
    "\n",
    "line_info = np.genfromtxt('linelist.dat', unpack =True, dtype='str', usecols=(0,1), skip_header = 1)\n",
    "\n",
    "line_wavelength = line_info[0].astype(float)\n",
    "line_name = line_info[1]"
   ]
  },
  {
   "cell_type": "code",
   "execution_count": 8,
   "metadata": {},
   "outputs": [
    {
     "data": {
      "text/plain": [
       "array(['J030903.87+003846.9', 'J231903.23+010853.5',\n",
       "       'J073149.48+404513.2', 'J082540.44+184617.2',\n",
       "       'J021306.61+005612.4', 'J114827.33+254611.7',\n",
       "       'J232122.50+003455.0', 'J120149.90+280610.6',\n",
       "       'J014707.04+135629.1'], dtype='<U19')"
      ]
     },
     "execution_count": 8,
     "metadata": {},
     "output_type": "execute_result"
    }
   ],
   "source": [
    "ID"
   ]
  },
  {
   "cell_type": "code",
   "execution_count": 9,
   "metadata": {},
   "outputs": [
    {
     "data": {
      "text/plain": [
       "array([0.03 , 0.03 , 0.034, 0.038, 0.04 , 0.045, 0.053, 0.056, 0.057])"
      ]
     },
     "execution_count": 9,
     "metadata": {},
     "output_type": "execute_result"
    }
   ],
   "source": [
    "z"
   ]
  },
  {
   "cell_type": "code",
   "execution_count": 10,
   "metadata": {},
   "outputs": [
    {
     "data": {
      "text/plain": [
       "array([ 6562.8,  4861.3,  4340.5,  4101.7,  3970.1,  3889.1,  3835.4,\n",
       "        3797.9, 10049.4,  9546. ,  9229. ,  9014.9,  4471. ,  3820. ,\n",
       "        3889. ,  4026. ,  5876. ,  7065. , 10830. ,  6678. ,  4922. ,\n",
       "        5016. ,  3965. ,  4686. , 10123. ,  6560. ,  5412. ,  4859. ,\n",
       "        4541. ,  4339. ,  9344. ,  8236. ,  7178. ,  5577. ,  6300. ,\n",
       "        6363. ,  3725. ,  3727. ,  3869. ,  7320. ,  7330. ,  4363. ,\n",
       "        4959. ,  5007. ,  5755. ,  6548. ,  6583. ,  6312. ,  6716. ,\n",
       "        6730. ,  3868. ,  3970. ,  7135. ,  7751. ,  4711. ,  4740. ])"
      ]
     },
     "execution_count": 10,
     "metadata": {},
     "output_type": "execute_result"
    }
   ],
   "source": [
    "line_wavelength"
   ]
  },
  {
   "cell_type": "code",
   "execution_count": 11,
   "metadata": {},
   "outputs": [],
   "source": [
    "files = [x for x in glob.glob('*.fits') if 'SDSS' not in x]"
   ]
  },
  {
   "cell_type": "code",
   "execution_count": 12,
   "metadata": {},
   "outputs": [
    {
     "data": {
      "text/plain": [
       "['median_J014707+135629_cem.fits',\n",
       " 'median_J021306+005612_mods1b_ce.fits',\n",
       " 'median_J021306+005612_mods1r_ce.fits',\n",
       " 'median_J030903+003846_cem.fits',\n",
       " 'median_J073149+404513_mods1b_ce.fits',\n",
       " 'median_J073149+404513_mods1r_ce.fits',\n",
       " 'median_J082540+184617_mods1b_ce.fits',\n",
       " 'median_J082540+184617_mods1r_ce.fits',\n",
       " 'median_J231903+010853_cem.fits']"
      ]
     },
     "execution_count": 12,
     "metadata": {},
     "output_type": "execute_result"
    }
   ],
   "source": [
    "files"
   ]
  },
  {
   "cell_type": "code",
   "execution_count": 19,
   "metadata": {},
   "outputs": [],
   "source": [
    "file_num = np.unique([x.split('_')[1] for x in files])"
   ]
  },
  {
   "cell_type": "code",
   "execution_count": 20,
   "metadata": {},
   "outputs": [
    {
     "data": {
      "text/plain": [
       "array(['J014707+135629', 'J021306+005612', 'J030903+003846',\n",
       "       'J073149+404513', 'J082540+184617', 'J231903+010853'], dtype='<U14')"
      ]
     },
     "execution_count": 20,
     "metadata": {},
     "output_type": "execute_result"
    }
   ],
   "source": [
    "file_num"
   ]
  },
  {
   "cell_type": "code",
   "execution_count": 15,
   "metadata": {},
   "outputs": [],
   "source": [
    "ID1 = [x.split('.')[0] for x in ID]"
   ]
  },
  {
   "cell_type": "code",
   "execution_count": 16,
   "metadata": {},
   "outputs": [
    {
     "data": {
      "text/plain": [
       "['J030903',\n",
       " 'J231903',\n",
       " 'J073149',\n",
       " 'J082540',\n",
       " 'J021306',\n",
       " 'J114827',\n",
       " 'J232122',\n",
       " 'J120149',\n",
       " 'J014707']"
      ]
     },
     "execution_count": 16,
     "metadata": {},
     "output_type": "execute_result"
    }
   ],
   "source": [
    "ID1"
   ]
  },
  {
   "cell_type": "code",
   "execution_count": 23,
   "metadata": {},
   "outputs": [],
   "source": [
    "test = np.zeros(len(ID1), dtype = bool)\n",
    "\n",
    "for j, val in enumerate(ID1):\n",
    "    for i in file_num:\n",
    "        if val in i:\n",
    "            test[j] = True  \n",
    "            "
   ]
  },
  {
   "cell_type": "code",
   "execution_count": 24,
   "metadata": {},
   "outputs": [
    {
     "data": {
      "text/plain": [
       "array([ True,  True,  True,  True,  True, False, False, False,  True])"
      ]
     },
     "execution_count": 24,
     "metadata": {},
     "output_type": "execute_result"
    }
   ],
   "source": [
    "test"
   ]
  },
  {
   "cell_type": "code",
   "execution_count": 33,
   "metadata": {},
   "outputs": [],
   "source": [
    "ID_1 = np.array(ID1)[test]"
   ]
  },
  {
   "cell_type": "code",
   "execution_count": 34,
   "metadata": {},
   "outputs": [],
   "source": [
    "z_redshift = np.array(z)[test]"
   ]
  },
  {
   "cell_type": "code",
   "execution_count": 36,
   "metadata": {},
   "outputs": [
    {
     "name": "stdout",
     "output_type": "stream",
     "text": [
      "[False False False False False  True]\n",
      "[False False False False  True False]\n",
      "[False False False False  True False]\n",
      "[ True False False False False False]\n",
      "[False False  True False False False]\n",
      "[False False  True False False False]\n",
      "[False False False  True False False]\n",
      "[False False False  True False False]\n",
      "[False  True False False False False]\n"
     ]
    }
   ],
   "source": [
    "for i in files:\n",
    "    #print(type(i))\n",
    "    sp1 = i.split('_')[1]\n",
    "    sp2 = sp1.split('+')[0]\n",
    "    \n",
    "    match = ID_1 == sp2\n",
    "    print(match)"
   ]
  },
  {
   "cell_type": "code",
   "execution_count": null,
   "metadata": {},
   "outputs": [],
   "source": []
  },
  {
   "cell_type": "code",
   "execution_count": null,
   "metadata": {},
   "outputs": [],
   "source": []
  },
  {
   "cell_type": "code",
   "execution_count": 8,
   "metadata": {},
   "outputs": [
    {
     "name": "stdout",
     "output_type": "stream",
     "text": [
      "LineCent LineName\r\n",
      "------- ----------\r\n",
      "3187.74 HeI_3188\r\n",
      "3203.10 HeII_3203\r\n",
      "3426.85 [NeV]3427\r\n",
      "3703.30 H16\r\n",
      "3711.97 H15\r\n",
      "3721.94 H14\r\n",
      "3725.00 [OII]3725\r\n",
      "3727.00 [OII]3727\r\n",
      "3750.15 H12_3750\r\n",
      "3770.63 H11_3771\r\n",
      "3797.90 H10_3798\r\n",
      "3819.64 HeI_3819\r\n",
      "3835.4  Hn\r\n",
      "3868.76 [NeIII]3869\r\n",
      "3889.1  HeI+H8\r\n",
      "3968.00 [NeIII]+H7\r\n",
      "4026.19 HeI_4026\r\n",
      "4068.60 [SII]4068\r\n",
      "4076.35 [SII]4076\r\n",
      "4101.74 Hd_4101\r\n",
      "4120.84 HeI_4121\r\n",
      "4143.76 HeI_4144\r\n",
      "4227.20 [FeV]4227\r\n",
      "4340.47 Hg+HeII_10-4\r\n",
      "4363.21 [OIII]4363\r\n",
      "4387.93 HeI_4388\r\n",
      "4471.48 HeI_4471\r\n",
      "4541.00 HeII_4541\r\n",
      "4658.10 [FeIII]4658\r\n",
      "4685.94 HeII_4686\r\n",
      "4712.00 [ArIV]+HeI\r\n",
      "4740.20 [ArIV]4740\r\n",
      "4859.00 HeII_4859\r\n",
      "4861.33 Hbeta_4861\r\n",
      "4921.93 HeI_4922\r\n",
      "4958.92 [OIII]4959\r\n",
      "4988.00 [FeIII]4988\r\n",
      "5006.80 [OIII]5007\r\n",
      "5015.68 HeI_5015\r\n",
      "5411.52 HeII_5411\r\n",
      "5517.71 [ClIII]5518\r\n",
      "5537.88 [ClIII]5538\r\n",
      "5577.00 [OI]5577\r\n",
      "5754.64 [NII]5754\r\n",
      "5875.60 HeI_5876\r\n",
      "6300.30 [OI]6300\r\n",
      "6312.10 [SIII]6312\r\n",
      "6363.80 [OI]6363\r\n",
      "6548.10 [NII]6548\r\n",
      "6562.80 Halpha_6562\r\n",
      "6583.40 [NII]6583\r\n",
      "6678.10 HeI_6678\r\n",
      "6716.40 [SII]6716\r\n",
      "6730.80 [SII]6730\r\n",
      "7065.30 HeI_7065\r\n",
      "7135.80 [ArIII]7136\r\n",
      "7178.00 HeII_7178\r\n",
      "7281.21 HeI_7281\r\n",
      "7319.90 [OII]7320\r\n",
      "7330.20 [OII]7330\r\n",
      "7751.12 [ArIII]7751\r\n",
      "8236.00 HeII_8236\r\n",
      "9014.90 P10\r\n",
      "9069.00 [SIII]9069\r\n",
      "9229.00 P9\r\n",
      "9344.00 HeII_9344\r\n",
      "9530.60 [SIII]9530\r\n",
      "9546.00 P8  "
     ]
    }
   ],
   "source": [
    "cat spectrum_lines.txt"
   ]
  },
  {
   "cell_type": "markdown",
   "metadata": {},
   "source": [
    "# Working on an improved line analysis tool"
   ]
  },
  {
   "cell_type": "code",
   "execution_count": 37,
   "metadata": {},
   "outputs": [],
   "source": [
    "line, line_name = np.genfromtxt('spectrum_lines.txt', unpack = True, skip_header = 2, usecols = [0, 1], dtype = str)"
   ]
  },
  {
   "cell_type": "code",
   "execution_count": 38,
   "metadata": {},
   "outputs": [],
   "source": [
    "line_wavelength = line.astype(float)"
   ]
  },
  {
   "cell_type": "code",
   "execution_count": 39,
   "metadata": {},
   "outputs": [
    {
     "data": {
      "text/plain": [
       "array([3187.74, 3203.1 , 3426.85, 3703.3 , 3711.97, 3721.94, 3725.  ,\n",
       "       3727.  , 3750.15, 3770.63, 3797.9 , 3819.64, 3835.4 , 3868.76,\n",
       "       3889.1 , 3968.  , 4026.19, 4068.6 , 4076.35, 4101.74, 4120.84,\n",
       "       4143.76, 4227.2 , 4340.47, 4363.21, 4387.93, 4471.48, 4541.  ,\n",
       "       4658.1 , 4685.94, 4712.  , 4740.2 , 4859.  , 4861.33, 4921.93,\n",
       "       4958.92, 4988.  , 5006.8 , 5015.68, 5411.52, 5517.71, 5537.88,\n",
       "       5577.  , 5754.64, 5875.6 , 6300.3 , 6312.1 , 6363.8 , 6548.1 ,\n",
       "       6562.8 , 6583.4 , 6678.1 , 6716.4 , 6730.8 , 7065.3 , 7135.8 ,\n",
       "       7178.  , 7281.21, 7319.9 , 7330.2 , 7751.12, 8236.  , 9014.9 ,\n",
       "       9069.  , 9229.  , 9344.  , 9530.6 , 9546.  ])"
      ]
     },
     "execution_count": 39,
     "metadata": {},
     "output_type": "execute_result"
    }
   ],
   "source": [
    "line_wavelength"
   ]
  },
  {
   "cell_type": "code",
   "execution_count": 32,
   "metadata": {},
   "outputs": [
    {
     "data": {
      "text/plain": [
       "array(['HeI_3188', 'HeII_3203', '[NeV]3427', 'H16', 'H15', 'H14',\n",
       "       '[OII]3725', '[OII]3727', 'H12_3750', 'H11_3771', 'H10_3798',\n",
       "       'HeI_3819', 'Hn', '[NeIII]3869', 'HeI+H8', '[NeIII]+H7',\n",
       "       'HeI_4026', '[SII]4068', '[SII]4076', 'Hd_4101', 'HeI_4121',\n",
       "       'HeI_4144', '[FeV]4227', 'Hg+HeII_10-4', '[OIII]4363', 'HeI_4388',\n",
       "       'HeI_4471', 'HeII_4541', '[FeIII]4658', 'HeII_4686', '[ArIV]+HeI',\n",
       "       '[ArIV]4740', 'HeII_4859', 'Hbeta_4861', 'HeI_4922', '[OIII]4959',\n",
       "       '[FeIII]4988', '[OIII]5007', 'HeI_5015', 'HeII_5411',\n",
       "       '[ClIII]5518', '[ClIII]5538', '[OI]5577', '[NII]5754', 'HeI_5876',\n",
       "       '[OI]6300', '[SIII]6312', '[OI]6363', '[NII]6548', 'Halpha_6562',\n",
       "       '[NII]6583', 'HeI_6678', '[SII]6716', '[SII]6730', 'HeI_7065',\n",
       "       '[ArIII]7136', 'HeII_7178', 'HeI_7281', '[OII]7320', '[OII]7330',\n",
       "       '[ArIII]7751', 'HeII_8236', 'P10', '[SIII]9069', 'P9', 'HeII_9344',\n",
       "       '[SIII]9530', 'P8'], dtype='<U12')"
      ]
     },
     "execution_count": 32,
     "metadata": {},
     "output_type": "execute_result"
    }
   ],
   "source": [
    "line_name"
   ]
  },
  {
   "cell_type": "code",
   "execution_count": 33,
   "metadata": {},
   "outputs": [],
   "source": [
    "def fitting_lines(spectrum, wavelength, sig = 4):\n",
    "    '''\n",
    "    This function fits the emission lines from a spectrum object. The way that this is used for is if you have a sub_spectrum \n",
    "    of where you think the emission line is at +/- a window.\n",
    "    \n",
    "    Ie. if you have a line at 5009 angstroms and a window of 10 angstroms then the spectrum passed in must be a \n",
    "    subspectrum between 4999 and 5019.\n",
    "    \n",
    "    Essentially just your emission line\n",
    "\n",
    "    Parameters\n",
    "    ------------------------\n",
    "    spectrum: This is a sub_spectrum that holds your emission line\n",
    "\n",
    "    Returns\n",
    "    -----------------------\n",
    "    param: this is the parameters for the gaussian function param = [Amplitude, Mean, Sigma]\n",
    "    '''\n",
    "\n",
    "    #defining the gaussian function I would like to fit to the data\n",
    "    def f(x, A, mu, sig):\n",
    "        return A * np.exp(-(x-mu)**2/(2*sig**2))\n",
    "\n",
    "    #code that tries to fit the data with a gaussian\n",
    "    try:\n",
    "        #gets the mean value from the spectrum passed in\n",
    "        mu = np.mean(wavelength)\n",
    "        #performs the fitting\n",
    "        param, covar = curve_fit(f, wavelength, spectrum,\n",
    "                                 p0 = [np.amax(spectrum), mu, sig])\n",
    "        return param\n",
    "\n",
    "    #If it could not fit the data and we get a Runtime Error we return an array of -999.\n",
    "    #We can use this as a filter because we know that wavelengths won't be negative, so we get a param[1] < 0\n",
    "    except RuntimeError:\n",
    "        return np.array([-999,-999,-999])\n",
    "    except OptimizeWarning:\n",
    "        return np.array([-1, -1, -1])"
   ]
  },
  {
   "cell_type": "code",
   "execution_count": 34,
   "metadata": {},
   "outputs": [],
   "source": [
    "def Monte_Carlo(wavelength, flux, noise, line_center, continuum_func, filt):\n",
    "\n",
    "    '''\n",
    "\n",
    "    This function will run a monte carlo simulation of a run of 1000 samples and wil calculate the\n",
    "    fux and equivalent width of emission lines of interest\n",
    "\n",
    "    Parameters\n",
    "    ------------------------\n",
    "    wavelength: This is the wavelength of the noise filtered spectrum\n",
    "    flux: The flux of the spectrum with a noise filtered applied to get rid of noisy outer regions\n",
    "    distribution: This is the extraction standard deviation and should be in the form of a 1D array\n",
    "    line_center: The line center that we will be calculating the line flux and EW\n",
    "    continuum_func: The function used to get the continuum as this will be used to get the EW\n",
    "\n",
    "    Returns\n",
    "    ------------------------\n",
    "    emission_line_center: the emission line center in wavelength\n",
    "    emission_line_center_err: the error in the line center calculation\n",
    "    manual_ew: The EW of the line\n",
    "    manual_ew_err: the respective error\n",
    "    manual_flux: The flux of the line\n",
    "    manual_flux_err: the relative error on the flux\n",
    "\n",
    "    '''\n",
    "    \n",
    "    filt_flux = flux[filt]\n",
    "    filt_wave = wavelength[filt]\n",
    "    \n",
    "    i = line_center\n",
    "\n",
    "    dist_flux = []\n",
    "    dist_ew = []\n",
    "    dist_center = []\n",
    "    SN = -999\n",
    "\n",
    "    counter = 0\n",
    "    bad_fit = 0\n",
    "\n",
    "    #print(counter)\n",
    "    sn_counter = 0\n",
    "    while counter <= 1000:\n",
    "        \n",
    "        #print(counter)\n",
    "        new_flux = np.random.normal(filt_flux, scale = noise[filt])\n",
    "\n",
    "\n",
    "        #making a spectrum object\n",
    "        #spectrum = Spectrum1D(spectral_axis=wavelength*u.angstrom,\n",
    "                                  #flux =new_flux*u.erg/u.s/u.cm/u.cm/u.angstrom)\n",
    "\n",
    "        window = 6\n",
    "\n",
    "        #looking at the sub_region around where the line center is located at and +/- 6 Angstroms\n",
    "        if (i + window) > filt_wave[-1]:\n",
    "            \n",
    "            return np.array([-999,-999,-999, -999, -999, -999])\n",
    "        if (i - window) < filt_wave[0]:\n",
    "            \n",
    "            return np.array([-999,-999,-999, -999, -999, -999])\n",
    "        \n",
    "        #getting the indices where the wavelength array satisfies the condition\n",
    "        index = np.where(((i - window) >= filt_wave) & ((i + window) <= filt_wave))\n",
    "        \n",
    "        line_flux_region = new_flux[index]\n",
    "        \n",
    "        line_wavelength_region = filt_wave[index]\n",
    "\n",
    "\n",
    "        '''\n",
    "        if counter == 0:\n",
    "            spectrum1 = Spectrum1D(spectral_axis=wavelength*u.angstrom,\n",
    "                                  flux =flux*u.erg/u.s/u.cm/u.cm/u.angstrom, uncertainty=uncertainty)\n",
    "            window = 8*u.angstrom\n",
    "\n",
    "            #looking at the sub_region around where the line center is located at and +/- 10 Angstroms\n",
    "            sub_region1 = SpectralRegion(i - window, i + window)\n",
    "            sub_spectrum1 = extract_region(spectrum1, sub_region1)\n",
    "            SN = round(snr(sub_spectrum1).value, 2)\n",
    "        '''\n",
    "        \n",
    "        #this calls a function which fits the sub region with a gaussian\n",
    "        par = fitting_lines(sub_spectrum)\n",
    "\n",
    "        #############\n",
    "        #Note that if for some reason a gaussian cannot be fit it will return values of [-999, -999, -999] and\n",
    "        #we do not want those so we can omit these\n",
    "        #essentially we will not be fitting the line and getting a flux value or EW\n",
    "        #############\n",
    "\n",
    "        #print(par[1])\n",
    "        #checks to make sure fit worked if not it skips it\n",
    "\n",
    "        if par[1] < 0:\n",
    "            bad_fit += 1\n",
    "            #counter += 1\n",
    "            if bad_fit > 700:\n",
    "                return np.array([-999,-999,-999, -999, -999, -999])\n",
    "            continue\n",
    "        \n",
    "        if sn_counter == 0:\n",
    "            \n",
    "            wave = wavelength[filt]\n",
    "            noise_flux = flux[filt]\n",
    "            \n",
    "            index = abs(i.value - wave).argmin()\n",
    "            \n",
    "            rms_noise = noise_flux[index-7:index+7]\n",
    "            \n",
    "            std_noise = np.std(rms_noise)\n",
    "            \n",
    "            SN = round(par[0]/std_noise, 4)\n",
    "            sn_counter += 1\n",
    "            \n",
    "        #Sn = snr(sub_spectrum)\n",
    "        #getting the flux of the line using scipy curve fit parameters\n",
    "        flux_line = np.sqrt(2*np.pi)*abs(par[0])*abs(par[-1])\n",
    "\n",
    "        #getting the equivalent width from flux calculation above\n",
    "        dist_ew.append(flux_line/continuum_func(par[1]*u.angstrom).value)\n",
    "\n",
    "        #getting the center of the emission peak from curve_fit and appending it\n",
    "        #emission_line_center.append(par[1])\n",
    "\n",
    "        #line_center_index.append(abs(spectrum.spectral_axis.value - par[1]).argmin())\n",
    "        #if counter == 0 or counter == 500:\n",
    "            #x = np.linspace(sub_spectrum.spectral_axis.value[0], sub_spectrum.spectral_axis.value[-1], 1000)\n",
    "            #plt.plot(x, f(x, *par))\n",
    "            #plt.plot(sub_spectrum.spectral_axis, sub_spectrum.flux)\n",
    "        #appending the manual flux calculations\n",
    "        dist_flux.append(flux_line)\n",
    "\n",
    "        dist_center.append(par[1])\n",
    "\n",
    "        #SN_dist.append(Sn)\n",
    "\n",
    "        counter += 1\n",
    "\n",
    "        #if counter == 1000:\n",
    "         #   break\n",
    "\n",
    "\n",
    "    #print(counter)\n",
    "    \n",
    "    if len(dist_center) == 0:\n",
    "        return -999 * np.ones(6)\n",
    "\n",
    "    low = np.percentile(dist_flux, q=1, interpolation='midpoint')\n",
    "    high = np.percentile(dist_flux, q=99, interpolation='midpoint')\n",
    "\n",
    "    good_data = np.where((dist_flux>low) & (dist_flux < high))\n",
    "\n",
    "    hist_center, bin_edges_center = np.histogram(np.array(dist_center)[good_data], bins='fd')\n",
    "\n",
    "    #plt.plot(bin_edges_center[:-1], dist_center, '.')\n",
    "\n",
    "    hist_flux, bin_edges_flux = np.histogram(np.array(dist_flux)[good_data], bins = 'fd')\n",
    "\n",
    "    #plt.hist(dist_flux, bins = len(bin_edges_flux))\n",
    "    #plt.show()\n",
    "\n",
    "    hist_ew, bin_edges_ew = np.histogram(np.array(dist_ew)[good_data], bins = 'fd')\n",
    "\n",
    "    #hist_SN, bin_edges_SN = np.histogram(SN_dist, bins='auto')\n",
    "\n",
    "    #plt.hist(dist_ew, bins = len(bin_edges_ew))\n",
    "    #plt.show()\n",
    "\n",
    "    #print(len(bin_edges_center))\n",
    "    #print(len(hist_center))\n",
    "    bin_center = .5 * (bin_edges_center[1:] + bin_edges_center[:-1])\n",
    "    #print(len(bin_center))\n",
    "\n",
    "    #plt.plot(bin_center, hist_center, '.')\n",
    "\n",
    "    bin_center_flux = .5 * (bin_edges_flux[1:] + bin_edges_flux[:-1])\n",
    "\n",
    "    bin_center_ew = .5 * (bin_edges_ew[1:] + bin_edges_ew[:-1])\n",
    "    #bin_center_SN = .5 * (bin_edges_SN[1:] + bin_edges_SN[:-1])\n",
    "\n",
    "    def f(x, A, mu, sig):\n",
    "        return A * np.exp(-(x-mu)**2/(2*sig**2))\n",
    "\n",
    "\n",
    "    emission_line_center = -999\n",
    "    par_center = -999 * np.ones(3)\n",
    "    par_flux = -999 * np.ones(3)\n",
    "    par_ew = -999 * np.ones(3)\n",
    "    #par_SN = -999 * np.ones(3)\n",
    "\n",
    "    try:\n",
    "        #print('Emission Lines')\n",
    "        par_center, cov = curve_fit(f, bin_center, hist_center, p0 = [np.amax(hist_center), bin_center[hist_center.argmax()], np.std(bin_center)])\n",
    "\n",
    "        emission_line_center = round(par_center[1], 4)\n",
    "\n",
    "    except RuntimeError:\n",
    "        #print('emission Line err')\n",
    "        emission_line_center = round(line_center.value, 4)\n",
    "    #fig, (ax1, ax2) = plt.subplots(2, 1)\n",
    "    #ax1.bar(bin_center_flux, hist_flux, align='center', width=bin_center_flux[1]-bin_center_flux[0])\n",
    "    #ax2.bar(bin_center_ew, hist_ew, align='center', width=bin_center_ew[1]-bin_center_ew[0])\n",
    "    #plt.show()\n",
    "    \n",
    "    try:\n",
    "        #print('calculation')\n",
    "        par_flux, cov = curve_fit(f, bin_center_flux, hist_flux, p0 = [np.amax(hist_flux), bin_center_flux[hist_flux.argmax()], np.std(bin_center_flux)])\n",
    "        #print('after flux')\n",
    "\n",
    "    except RuntimeError:\n",
    "        #print('calculation error flux')\n",
    "        return -999*np.ones(6)\n",
    "    try:\n",
    "        par_ew, cov = curve_fit(f, bin_center_ew, hist_ew, p0 = [np.amax(hist_ew), bin_center_ew[hist_ew.argmax()], np.std(bin_center_ew)])\n",
    "        #print('after ew')\n",
    "        #par_SN, cov = curve_fit(f, bin_center_SN, hist_SN, p0 = [np.amax(hist_SN), bin_center_SN[hist_SN.argmax()], np.std(bin_center_SN)])\n",
    "\n",
    "    except RuntimeError:\n",
    "        #print('calculation error EW')\n",
    "        return -999*np.ones(6)\n",
    "    '''\n",
    "    try:\n",
    "        par_center, cov = curve_fit(f, bin_center, hist_center, p0 = [np.amax(hist_center), bin_center[hist_center.argmax()], np.std(bin_center)])\n",
    "    '''\n",
    "\n",
    "    #par_flux, cov = curve_fit(f, bin_center_flux, hist_flux, p0 = [np.amax(hist_flux), bin_center_flux[hist_flux.argmax()], np.std(bin_center_flux)])\n",
    "    #par_ew, cov = curve_fit(f, bin_center_ew, hist_ew, p0 = [np.amax(hist_ew), bin_center_ew[hist_ew.argmax()], np.std(bin_center_ew)])\n",
    "    #par_SN, cov = curve_fit(f, bin_center_SN, hist_SN, p0 = [np.amax(hist_SN), bin_center_SN[hist_SN.argmax()], np.std(bin_center_SN)])\n",
    "    \n",
    "    #x = np.linspace(bin_center_flux[0], bin_center_flux[-1], 1000)\n",
    "    #fit = f(x, *par_flux)\n",
    "    \n",
    "\n",
    "    #emission_line_center = round(par_center[1], 2)\n",
    "    #emission_line_center_err = round(par_center[-1], 4)\n",
    "    manual_ew = round(par_ew[1], 4)\n",
    "    manual_ew_err = round(par_ew[-1], 4)\n",
    "    manual_flux = round(par_flux[1], 4)\n",
    "    manual_flux_err = round(par_flux[-1], 4)\n",
    "    #SN = round(par_SN[1], 1)\n",
    "    #SN_err = round(par_SN[-1], 4)\n",
    "    \n",
    "    '''\n",
    "    if p <= 3:\n",
    "        x = np.linspace(bin_center_flux[0], bin_center_flux[-1], 1000)\n",
    "        fit = f(x, *par_flux)\n",
    "        #np.savez(str(round(i.value))+'_flux.npz', bin_center=bin_center_flux, flux_dist=hist_flux, fit_flux=fit, xfit = x)\n",
    "        x1 = np.linspace(bin_center_ew[0], bin_center_ew[-1], 1000)\n",
    "        fit_ew = f(x1, *par_ew)\n",
    "        #np.savez(str(round(i.value))+'_ew.npz', bin_center_ew=bin_center_ew, ew_dist=hist_ew, fit_ew=fit_ew, xfit=x1)\n",
    "\n",
    "    \n",
    "    emission_line_center = np.nanmean(dist_center)\n",
    "    emission_line_center_err = np.nanstd(dist_center)\n",
    "\n",
    "    manual_ew = np.nanmean(dist_ew)\n",
    "    manual_ew_err = np.nanstd(dist_ew)\n",
    "\n",
    "    manual_flux = np.nanmean(dist_flux)\n",
    "    manual_flux_err = np.nanstd(dist_flux)\n",
    "    '''\n",
    "    \n",
    "    #print('Everything Gucci')\n",
    "    \n",
    "    return emission_line_center, manual_ew, manual_ew_err, manual_flux, manual_flux_err, SN"
   ]
  },
  {
   "cell_type": "code",
   "execution_count": 35,
   "metadata": {},
   "outputs": [],
   "source": [
    "def analysis(wavelength, flux, noise, line_center, continuum_func, filt):\n",
    "    \n",
    "    line_center_wave = []\n",
    "    \n",
    "    calculated_flux = []\n",
    "    flux_err = []\n",
    "    \n",
    "    calculated_EW = []\n",
    "    EW_err = []\n",
    "    \n",
    "    \n",
    "    for line in line_center:\n",
    "        \n",
    "        emission_center_wave, manual_ew, manual_ew_err, manual_flux, manual_flux_err, SN = Monte_Carlo(wavelength, flux, noise, line, continuum_func, filt)\n",
    "        \n",
    "        line_center_wave.append(emission_center_wave)\n",
    "        \n",
    "        calculated_flux.append(manual_flux)\n",
    "        flux_err.append(manual_flux_err)\n",
    "        \n",
    "        calculated_EW.append(manual_ew)\n",
    "        EW_err.append(manual_ew_err)\n",
    "        \n",
    "        \n",
    "        "
   ]
  },
  {
   "cell_type": "code",
   "execution_count": 86,
   "metadata": {},
   "outputs": [],
   "source": []
  },
  {
   "cell_type": "code",
   "execution_count": 87,
   "metadata": {},
   "outputs": [
    {
     "data": {
      "text/plain": [
       "['SpecJ082540+184617_mods1b.npz',\n",
       " 'SpecJ030903+003846_cem.npz',\n",
       " 'SpecJ082540+184617_mods1r.npz',\n",
       " 'SpecJ014707+135629_cem.npz',\n",
       " 'Subtracted_Spectrum.npz',\n",
       " 'SpecJ231903+010853_cem.npz',\n",
       " 'SpecJ021306+005612_mods1b.npz',\n",
       " 'Subtracted_Spectrum_Red.npz',\n",
       " 'SpecJ021306+005612_mods1r.npz',\n",
       " 'SpecJ073149+404513_mods1b.npz',\n",
       " 'SpecJ073149+404513_mods1r.npz']"
      ]
     },
     "execution_count": 87,
     "metadata": {},
     "output_type": "execute_result"
    }
   ],
   "source": []
  },
  {
   "cell_type": "code",
   "execution_count": 88,
   "metadata": {},
   "outputs": [],
   "source": [
    "def getting_filenames():\n",
    "    npz_files = [x for x in glob.glob('*.npz') if 'Spec' in x and 'error' not in x and 'continuum' not in x]\n",
    "    new_npz_list = npz_files[:4] + npz_files[5:7] + npz_files[8:]\n",
    "    return new_npz_list"
   ]
  },
  {
   "cell_type": "code",
   "execution_count": 89,
   "metadata": {},
   "outputs": [],
   "source": [
    "files = getting_filenames()"
   ]
  },
  {
   "cell_type": "code",
   "execution_count": 90,
   "metadata": {},
   "outputs": [
    {
     "data": {
      "text/plain": [
       "['SpecJ082540+184617_mods1b.npz',\n",
       " 'SpecJ030903+003846_cem.npz',\n",
       " 'SpecJ082540+184617_mods1r.npz',\n",
       " 'SpecJ014707+135629_cem.npz',\n",
       " 'SpecJ231903+010853_cem.npz',\n",
       " 'SpecJ021306+005612_mods1b.npz',\n",
       " 'SpecJ021306+005612_mods1r.npz',\n",
       " 'SpecJ073149+404513_mods1b.npz',\n",
       " 'SpecJ073149+404513_mods1r.npz']"
      ]
     },
     "execution_count": 90,
     "metadata": {},
     "output_type": "execute_result"
    }
   ],
   "source": [
    "files"
   ]
  },
  {
   "cell_type": "code",
   "execution_count": 91,
   "metadata": {},
   "outputs": [],
   "source": [
    "u = np.load(files[2][:-4] + '_continuum'+ files[2][-4:], allow_pickle=True)"
   ]
  },
  {
   "cell_type": "code",
   "execution_count": 92,
   "metadata": {},
   "outputs": [
    {
     "ename": "RecursionError",
     "evalue": "maximum recursion depth exceeded",
     "output_type": "error",
     "traceback": [
      "\u001b[0;31m---------------------------------------------------------------------------\u001b[0m",
      "\u001b[0;31mRecursionError\u001b[0m                            Traceback (most recent call last)",
      "\u001b[0;32m<ipython-input-92-221afd691ee2>\u001b[0m in \u001b[0;36m<module>\u001b[0;34m\u001b[0m\n\u001b[0;32m----> 1\u001b[0;31m \u001b[0mu\u001b[0m\u001b[0;34m[\u001b[0m\u001b[0;34m'continuum'\u001b[0m\u001b[0;34m]\u001b[0m\u001b[0;34m\u001b[0m\u001b[0;34m\u001b[0m\u001b[0m\n\u001b[0m",
      "\u001b[0;32m~/opt/anaconda3/envs/astroconda/lib/python3.6/site-packages/numpy/lib/npyio.py\u001b[0m in \u001b[0;36m__getitem__\u001b[0;34m(self, key)\u001b[0m\n\u001b[1;32m    260\u001b[0m                 return format.read_array(bytes,\n\u001b[1;32m    261\u001b[0m                                          \u001b[0mallow_pickle\u001b[0m\u001b[0;34m=\u001b[0m\u001b[0mself\u001b[0m\u001b[0;34m.\u001b[0m\u001b[0mallow_pickle\u001b[0m\u001b[0;34m,\u001b[0m\u001b[0;34m\u001b[0m\u001b[0;34m\u001b[0m\u001b[0m\n\u001b[0;32m--> 262\u001b[0;31m                                          pickle_kwargs=self.pickle_kwargs)\n\u001b[0m\u001b[1;32m    263\u001b[0m             \u001b[0;32melse\u001b[0m\u001b[0;34m:\u001b[0m\u001b[0;34m\u001b[0m\u001b[0;34m\u001b[0m\u001b[0m\n\u001b[1;32m    264\u001b[0m                 \u001b[0;32mreturn\u001b[0m \u001b[0mself\u001b[0m\u001b[0;34m.\u001b[0m\u001b[0mzip\u001b[0m\u001b[0;34m.\u001b[0m\u001b[0mread\u001b[0m\u001b[0;34m(\u001b[0m\u001b[0mkey\u001b[0m\u001b[0;34m)\u001b[0m\u001b[0;34m\u001b[0m\u001b[0;34m\u001b[0m\u001b[0m\n",
      "\u001b[0;32m~/opt/anaconda3/envs/astroconda/lib/python3.6/site-packages/numpy/lib/format.py\u001b[0m in \u001b[0;36mread_array\u001b[0;34m(fp, allow_pickle, pickle_kwargs)\u001b[0m\n\u001b[1;32m    725\u001b[0m             \u001b[0mpickle_kwargs\u001b[0m \u001b[0;34m=\u001b[0m \u001b[0;34m{\u001b[0m\u001b[0;34m}\u001b[0m\u001b[0;34m\u001b[0m\u001b[0;34m\u001b[0m\u001b[0m\n\u001b[1;32m    726\u001b[0m         \u001b[0;32mtry\u001b[0m\u001b[0;34m:\u001b[0m\u001b[0;34m\u001b[0m\u001b[0;34m\u001b[0m\u001b[0m\n\u001b[0;32m--> 727\u001b[0;31m             \u001b[0marray\u001b[0m \u001b[0;34m=\u001b[0m \u001b[0mpickle\u001b[0m\u001b[0;34m.\u001b[0m\u001b[0mload\u001b[0m\u001b[0;34m(\u001b[0m\u001b[0mfp\u001b[0m\u001b[0;34m,\u001b[0m \u001b[0;34m**\u001b[0m\u001b[0mpickle_kwargs\u001b[0m\u001b[0;34m)\u001b[0m\u001b[0;34m\u001b[0m\u001b[0;34m\u001b[0m\u001b[0m\n\u001b[0m\u001b[1;32m    728\u001b[0m         \u001b[0;32mexcept\u001b[0m \u001b[0mUnicodeError\u001b[0m \u001b[0;32mas\u001b[0m \u001b[0merr\u001b[0m\u001b[0;34m:\u001b[0m\u001b[0;34m\u001b[0m\u001b[0;34m\u001b[0m\u001b[0m\n\u001b[1;32m    729\u001b[0m             \u001b[0;32mif\u001b[0m \u001b[0msys\u001b[0m\u001b[0;34m.\u001b[0m\u001b[0mversion_info\u001b[0m\u001b[0;34m[\u001b[0m\u001b[0;36m0\u001b[0m\u001b[0;34m]\u001b[0m \u001b[0;34m>=\u001b[0m \u001b[0;36m3\u001b[0m\u001b[0;34m:\u001b[0m\u001b[0;34m\u001b[0m\u001b[0;34m\u001b[0m\u001b[0m\n",
      "\u001b[0;32m~/opt/anaconda3/envs/astroconda/lib/python3.6/site-packages/specutils/utils/quantity_model.py\u001b[0m in \u001b[0;36m__getattr__\u001b[0;34m(self, nm)\u001b[0m\n\u001b[1;32m     42\u001b[0m \u001b[0;34m\u001b[0m\u001b[0m\n\u001b[1;32m     43\u001b[0m     \u001b[0;32mdef\u001b[0m \u001b[0m__getattr__\u001b[0m\u001b[0;34m(\u001b[0m\u001b[0mself\u001b[0m\u001b[0;34m,\u001b[0m \u001b[0mnm\u001b[0m\u001b[0;34m)\u001b[0m\u001b[0;34m:\u001b[0m\u001b[0;34m\u001b[0m\u001b[0;34m\u001b[0m\u001b[0m\n\u001b[0;32m---> 44\u001b[0;31m         \u001b[0;32mif\u001b[0m \u001b[0mhasattr\u001b[0m\u001b[0;34m(\u001b[0m\u001b[0mself\u001b[0m\u001b[0;34m.\u001b[0m\u001b[0munitless_model\u001b[0m\u001b[0;34m,\u001b[0m \u001b[0mnm\u001b[0m\u001b[0;34m)\u001b[0m\u001b[0;34m:\u001b[0m\u001b[0;34m\u001b[0m\u001b[0;34m\u001b[0m\u001b[0m\n\u001b[0m\u001b[1;32m     45\u001b[0m             \u001b[0;32mreturn\u001b[0m \u001b[0mgetattr\u001b[0m\u001b[0;34m(\u001b[0m\u001b[0mself\u001b[0m\u001b[0;34m.\u001b[0m\u001b[0munitless_model\u001b[0m\u001b[0;34m,\u001b[0m \u001b[0mnm\u001b[0m\u001b[0;34m)\u001b[0m\u001b[0;34m\u001b[0m\u001b[0;34m\u001b[0m\u001b[0m\n\u001b[1;32m     46\u001b[0m         \u001b[0;32melse\u001b[0m\u001b[0;34m:\u001b[0m\u001b[0;34m\u001b[0m\u001b[0;34m\u001b[0m\u001b[0m\n",
      "... last 1 frames repeated, from the frame below ...\n",
      "\u001b[0;32m~/opt/anaconda3/envs/astroconda/lib/python3.6/site-packages/specutils/utils/quantity_model.py\u001b[0m in \u001b[0;36m__getattr__\u001b[0;34m(self, nm)\u001b[0m\n\u001b[1;32m     42\u001b[0m \u001b[0;34m\u001b[0m\u001b[0m\n\u001b[1;32m     43\u001b[0m     \u001b[0;32mdef\u001b[0m \u001b[0m__getattr__\u001b[0m\u001b[0;34m(\u001b[0m\u001b[0mself\u001b[0m\u001b[0;34m,\u001b[0m \u001b[0mnm\u001b[0m\u001b[0;34m)\u001b[0m\u001b[0;34m:\u001b[0m\u001b[0;34m\u001b[0m\u001b[0;34m\u001b[0m\u001b[0m\n\u001b[0;32m---> 44\u001b[0;31m         \u001b[0;32mif\u001b[0m \u001b[0mhasattr\u001b[0m\u001b[0;34m(\u001b[0m\u001b[0mself\u001b[0m\u001b[0;34m.\u001b[0m\u001b[0munitless_model\u001b[0m\u001b[0;34m,\u001b[0m \u001b[0mnm\u001b[0m\u001b[0;34m)\u001b[0m\u001b[0;34m:\u001b[0m\u001b[0;34m\u001b[0m\u001b[0;34m\u001b[0m\u001b[0m\n\u001b[0m\u001b[1;32m     45\u001b[0m             \u001b[0;32mreturn\u001b[0m \u001b[0mgetattr\u001b[0m\u001b[0;34m(\u001b[0m\u001b[0mself\u001b[0m\u001b[0;34m.\u001b[0m\u001b[0munitless_model\u001b[0m\u001b[0;34m,\u001b[0m \u001b[0mnm\u001b[0m\u001b[0;34m)\u001b[0m\u001b[0;34m\u001b[0m\u001b[0;34m\u001b[0m\u001b[0m\n\u001b[1;32m     46\u001b[0m         \u001b[0;32melse\u001b[0m\u001b[0;34m:\u001b[0m\u001b[0;34m\u001b[0m\u001b[0;34m\u001b[0m\u001b[0m\n",
      "\u001b[0;31mRecursionError\u001b[0m: maximum recursion depth exceeded"
     ]
    }
   ],
   "source": [
    "u['continuum']"
   ]
  },
  {
   "cell_type": "code",
   "execution_count": null,
   "metadata": {},
   "outputs": [],
   "source": []
  },
  {
   "cell_type": "code",
   "execution_count": null,
   "metadata": {},
   "outputs": [],
   "source": [
    "#Getting the necessary data from the files"
   ]
  },
  {
   "cell_type": "code",
   "execution_count": null,
   "metadata": {},
   "outputs": [],
   "source": [
    "for file in files:\n",
    "    \n",
    "    loaded_data = np.load(file)\n",
    "    \n",
    "    flux = loaded_data['flux']\n",
    "    wavelength = loaded_data['wavelength']\n",
    "    redshift = loaded_data['z']\n",
    "    \n",
    "    error_file = file[:-4] + '_error'+ file[-4:]\n",
    "    \n",
    "    error_loaded_data = np.load(error_file)\n",
    "    error_data = error_loaded_data['err']\n",
    "    \n",
    "    continuum_file = file[:-4] + '_continuum' + file[-4:]\n",
    "    \n",
    "    loaded_continuum_data = np.load(continuum_file, allow_pickle=True)\n",
    "    continuum_data = loaded_continuum_data['continuum'].item()\n",
    "    "
   ]
  },
  {
   "cell_type": "code",
   "execution_count": null,
   "metadata": {},
   "outputs": [],
   "source": []
  },
  {
   "cell_type": "code",
   "execution_count": null,
   "metadata": {},
   "outputs": [],
   "source": []
  }
 ],
 "metadata": {
  "kernelspec": {
   "display_name": "Python 3",
   "language": "python",
   "name": "python3"
  },
  "language_info": {
   "codemirror_mode": {
    "name": "ipython",
    "version": 3
   },
   "file_extension": ".py",
   "mimetype": "text/x-python",
   "name": "python",
   "nbconvert_exporter": "python",
   "pygments_lexer": "ipython3",
   "version": "3.6.9"
  }
 },
 "nbformat": 4,
 "nbformat_minor": 2
}
